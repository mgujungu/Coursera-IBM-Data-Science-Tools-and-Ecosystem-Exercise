{
 "cells": [
  {
   "cell_type": "markdown",
   "metadata": {},
   "source": [
    "<center>\n",
    "    <img src=\"https://cf-courses-data.s3.us.cloud-object-storage.appdomain.cloud/IBMDeveloperSkillsNetwork-DS0105EN-SkillsNetwork/labs/Module2/images/SN_web_lightmode.png\" width=\"300\" alt=\"cognitiveclass.ai logo\">\n",
    "</center>\n"
   ]
  },
  {
   "cell_type": "markdown",
   "metadata": {},
   "source": [
    "#### Add your code below following the instructions given in the course\n"
   ]
  },
  {
   "cell_type": "markdown",
   "metadata": {},
   "source": [
    "# Data Science Tools and Ecosystem"
   ]
  },
  {
   "cell_type": "markdown",
   "metadata": {},
   "source": [
    "## In this notebook, Data Science Tools and Ecosystem are summarized."
   ]
  },
  {
   "cell_type": "markdown",
   "metadata": {
    "tags": []
   },
   "source": [
    "# Objectives:\n",
    "\n",
    "* List popular languages for Data Science\n",
    "* List commonly used libraries for Data Science\n",
    "* Discuss Data Science Tools\n",
    "* Evaluate arithmetic expressions in Python\n"
   ]
  },
  {
   "cell_type": "markdown",
   "metadata": {},
   "source": [
    "### Some of the popular languages that Data Scientists use are:\n",
    "\n",
    "1. Python: Python is widely used in the field of data science due to its versatility, ease of use, and a rich ecosystem of libraries and tools. It has libraries such as NumPy, Pandas, Matplotlib, and scikit-learn that provide powerful data manipulation, analysis, and machine learning capabilities.\n",
    "\n",
    "2. R: R is another popular language among data scientists, particularly for statistical analysis and data visualization. It has a wide range of packages, such as ggplot2, dplyr, and caret, that are specifically designed for data analysis and modeling.\n",
    "\n",
    "3. SQL: SQL (Structured Query Language) is essential for working with relational databases, which are commonly used for storing and retrieving structured data. Data scientists often use SQL to query databases, perform data transformations, and extract relevant data for analysis."
   ]
  },
  {
   "cell_type": "markdown",
   "metadata": {},
   "source": [
    "### Some of the commonly used libraries used by Data Scientists include:\n",
    "\n",
    "1. NumPy: NumPy is a fundamental library for numerical computing in Python. It provides efficient data structures and functions for performing mathematical operations on large multi-dimensional arrays and matrices.\n",
    "\n",
    "2. Pandas: Pandas is a powerful data manipulation and analysis library in Python. It provides data structures like DataFrames that allow for easy handling and manipulation of structured data, such as tabular data.\n",
    "\n",
    "3. Matplotlib: Matplotlib is a plotting and visualization library in Python. It provides a wide range of tools for creating various types of plots, charts, and graphs to visualize data and gain insights.\n",
    "\n",
    "4. scikit-learn: scikit-learn is a popular machine learning library in Python. It provides a wide range of algorithms and tools for tasks such as classification, regression, clustering, and dimensionality reduction. It also includes utilities for data preprocessing and model evaluation.\n",
    "\n",
    "5. TensorFlow: TensorFlow is an open-source machine learning framework developed by Google. It is widely used for building and training deep learning models. TensorFlow provides a flexible and efficient platform for numerical computation and supports GPU acceleration.\n",
    "\n",
    "6. Keras: Keras is a high-level neural networks library that runs on top of TensorFlow. It provides a user-friendly API for building and training deep learning models. Keras simplifies the process of defining, configuring, and training neural networks.\n",
    "\n",
    "7. PyTorch: PyTorch is another popular deep learning framework that offers dynamic computational graphs and a flexible programming interface. It is known for its ease of use and supports both CPU and GPU acceleration.\n",
    "\n",
    "8. Seaborn: Seaborn is a data visualization library in Python that is built on top of Matplotlib. It provides a higher-level interface for creating attractive and informative statistical graphics."
   ]
  },
  {
   "cell_type": "markdown",
   "metadata": {
    "tags": []
   },
   "source": [
    "| Data Science Tools |\n",
    "----------------------\n",
    "| Jupyter Notebook |\n",
    "|     RStudio      |\n",
    "|     PyCharm      |"
   ]
  },
  {
   "cell_type": "markdown",
   "metadata": {},
   "source": [
    "### Below are a few examples of evaluating arithmetic expressions in Python"
   ]
  },
  {
   "cell_type": "code",
   "execution_count": 5,
   "metadata": {
    "tags": []
   },
   "outputs": [
    {
     "data": {
      "text/plain": [
       "17"
      ]
     },
     "execution_count": 5,
     "metadata": {},
     "output_type": "execute_result"
    }
   ],
   "source": [
    "# This a simple arithmetic expression to mutiply then add integers\n",
    "(3*4)+5"
   ]
  },
  {
   "cell_type": "code",
   "execution_count": 6,
   "metadata": {
    "tags": []
   },
   "outputs": [
    {
     "name": "stdout",
     "output_type": "stream",
     "text": [
      "3.3333333333333335\n"
     ]
    }
   ],
   "source": [
    "# This will convert 200 minutes to hours by diving by 60\n",
    "\n",
    "hours = 200 / 60\n",
    "print (hours) "
   ]
  },
  {
   "cell_type": "markdown",
   "metadata": {},
   "source": [
    "## Author\n",
    "\n",
    "Muttaka Turaki Gujungu\n"
   ]
  },
  {
   "cell_type": "code",
   "execution_count": null,
   "metadata": {},
   "outputs": [],
   "source": []
  }
 ],
 "metadata": {
  "kernelspec": {
   "display_name": "Python",
   "language": "python",
   "name": "conda-env-python-py"
  },
  "language_info": {
   "codemirror_mode": {
    "name": "ipython",
    "version": 3
   },
   "file_extension": ".py",
   "mimetype": "text/x-python",
   "name": "python",
   "nbconvert_exporter": "python",
   "pygments_lexer": "ipython3",
   "version": "3.7.12"
  }
 },
 "nbformat": 4,
 "nbformat_minor": 4
}
